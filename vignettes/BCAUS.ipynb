{
 "cells": [
  {
   "cell_type": "markdown",
   "id": "1e7daeed",
   "metadata": {},
   "source": [
    "# BCAUS"
   ]
  },
  {
   "cell_type": "markdown",
   "id": "17cc19e6",
   "metadata": {},
   "source": [
    "__Reference__: [Belthangady et al, Minimizing bias in massive multi-arm observational studies with BCAUS: balancing covariates automatically using supervision, BMC Medical Research Methodology 2021](https://bmcmedresmethodol.biomedcentral.com/articles/10.1186/s12874-021-01383-x)"
   ]
  },
  {
   "cell_type": "markdown",
   "id": "8ee4fc7d",
   "metadata": {},
   "source": [
    "## BCAUS on IHDP"
   ]
  },
  {
   "cell_type": "code",
   "execution_count": 1,
   "id": "596d66eb",
   "metadata": {
    "execution": {
     "iopub.execute_input": "2023-05-30T21:03:27.647831Z",
     "iopub.status.busy": "2023-05-30T21:03:27.647503Z",
     "iopub.status.idle": "2023-05-30T21:04:13.296692Z",
     "shell.execute_reply": "2023-05-30T21:04:13.295705Z",
     "shell.execute_reply.started": "2023-05-30T21:03:27.647810Z"
    },
    "tags": []
   },
   "outputs": [
    {
     "name": "stderr",
     "output_type": "stream",
     "text": [
      "/home/jovyan/my-conda-envs/causalforge/lib/python3.11/site-packages/tqdm/auto.py:21: TqdmWarning: IProgress not found. Please update jupyter and ipywidgets. See https://ipywidgets.readthedocs.io/en/stable/user_install.html\n",
      "  from .autonotebook import tqdm as notebook_tqdm\n"
     ]
    }
   ],
   "source": [
    "import logging, sys\n",
    "from causalforge.model import Model , PROBLEM_TYPE\n",
    "from causalforge.data_loader import DataLoader \n",
    "\n",
    "# logger \n",
    "root = logging.getLogger()\n",
    "root.setLevel(logging.DEBUG)\n",
    "\n",
    "handler = logging.StreamHandler(sys.stdout)\n",
    "handler.setLevel(logging.DEBUG)\n",
    "formatter = logging.Formatter('%(asctime)s - %(name)s - %(levelname)s - %(message)s')\n",
    "handler.setFormatter(formatter)\n",
    "root.addHandler(handler)\n",
    "\n",
    "# load IHDP dataset \n",
    "r = DataLoader.get_loader('IHDP').load()\n",
    "X_tr, T_tr, YF_tr, YCF_tr, mu_0_tr, mu_1_tr, X_te, T_te, YF_te, YCF_te, mu_0_te, mu_1_te = r\n",
    "\n",
    "# model params \n",
    "params={}\n",
    "params['random_state']= 271\n",
    "params['learning_rate_init']= 0.001\n",
    "params['nu']= 1\n",
    "params['max_iter']= 100\n",
    "params['alpha']= 0.0\n",
    "params['dropout']= 0\n",
    "params['eps']= 1e-5\n",
    "params['n_iter_no_change']= 10\n",
    "params['balance_threshold']= 0.1\n",
    "params['verbose'] = True \n",
    "params['logger'] = logging.getLogger(\"BCAUS_DR\")\n",
    "\n",
    "# model \n",
    "bcaus_dr = Model.create_model(\"bcaus_dr\",\n",
    "                               params,\n",
    "                               problem_type=PROBLEM_TYPE.CAUSAL_TREATMENT_EFFECT_ESTIMATION, \n",
    "                               multiple_treatments=False)\n",
    "\n"
   ]
  },
  {
   "cell_type": "code",
   "execution_count": 2,
   "id": "6029ecee",
   "metadata": {
    "execution": {
     "iopub.execute_input": "2023-05-30T21:04:13.298490Z",
     "iopub.status.busy": "2023-05-30T21:04:13.297720Z",
     "iopub.status.idle": "2023-05-30T21:04:21.777569Z",
     "shell.execute_reply": "2023-05-30T21:04:21.776730Z",
     "shell.execute_reply.started": "2023-05-30T21:04:13.298434Z"
    },
    "tags": []
   },
   "outputs": [
    {
     "name": "stdout",
     "output_type": "stream",
     "text": [
      "2023-05-30 21:04:13,388 - BCAUS_DR - INFO - Epoch =0: Propensity Loss =0.5607155561447144, Covariate Loss =0.013271915726363659, Balanced covs =9\n",
      "2023-05-30 21:04:13,658 - BCAUS_DR - INFO - Epoch =50: Propensity Loss =0.48983609676361084, Covariate Loss =0.0003960996982641518, Balanced covs =23\n",
      "2023-05-30 21:04:14,116 - BCAUS_DR - INFO - Number of balanced covariates at end of training:23\n",
      "2023-05-30 21:04:20,857 - BCAUS_DR - INFO - Epoch =0: Propensity Loss =0.5610273480415344, Covariate Loss =0.012001271359622478, Balanced covs =10\n",
      "2023-05-30 21:04:21,149 - BCAUS_DR - INFO - Epoch =50: Propensity Loss =0.4866325259208679, Covariate Loss =0.0004617059894371778, Balanced covs =21\n",
      "2023-05-30 21:04:21,372 - BCAUS_DR - INFO - Number of balanced covariates at end of training:24\n",
      "2023-05-30 21:04:21,444 - BCAUS_DR - INFO - Epoch =0: Propensity Loss =0.5617637634277344, Covariate Loss =0.011508171446621418, Balanced covs =9\n",
      "2023-05-30 21:04:21,582 - BCAUS_DR - INFO - Epoch =50: Propensity Loss =0.4943636953830719, Covariate Loss =0.00041538075311109424, Balanced covs =22\n",
      "2023-05-30 21:04:21,717 - BCAUS_DR - INFO - Number of balanced covariates at end of training:24\n"
     ]
    }
   ],
   "source": [
    "from causalforge.metrics import eps_ATE_diff, PEHE_with_ite\n",
    "import numpy as np\n",
    "\n",
    "experiment_ids = [1,10,400]\n",
    "\n",
    "eps_ATE_tr, eps_ATE_te = [], []\n",
    "eps_PEHE_tr, eps_PEHE_te = [] , [] \n",
    "\n",
    "\n",
    "\n",
    "for idx in experiment_ids:    \n",
    "    t_tr, y_tr, x_tr, mu0tr, mu1tr = T_tr[:,idx] , YF_tr[:,idx], X_tr[:,:,idx], mu_0_tr[:,idx], mu_1_tr[:,idx] \n",
    "    t_te, y_te, x_te, mu0te, mu1te = T_te[:,idx] , YF_te[:,idx], X_te[:,:,idx], mu_0_te[:,idx], mu_1_te[:,idx]  \n",
    "    \n",
    "    \n",
    "    # Train your causal method on train-set ...\n",
    "    bcaus_dr.fit(x_tr,t_tr,y_tr)\n",
    "\n",
    "    # Validate your method test-set ... \n",
    "    ATE_truth_tr = (mu1tr - mu0tr).mean()\n",
    "    ATE_truth_te = (mu1te - mu0te).mean()\n",
    "    \n",
    "    ITE_truth_tr = (mu1tr - mu0tr)\n",
    "    ITE_truth_te = (mu1te - mu0te)\n",
    "    \n",
    "    eps_ATE_tr.append( eps_ATE_diff( bcaus_dr.predict_ate(x_tr,t_tr,y_tr), ATE_truth_tr) )\n",
    "    eps_ATE_te.append( eps_ATE_diff( bcaus_dr.predict_ate(x_te,t_te,y_te), ATE_truth_te) )\n",
    "        "
   ]
  },
  {
   "cell_type": "markdown",
   "id": "c66a1f16",
   "metadata": {},
   "source": [
    "## Results "
   ]
  },
  {
   "cell_type": "code",
   "execution_count": 3,
   "id": "a0974708-761f-4797-96f7-840dc163ed20",
   "metadata": {
    "execution": {
     "iopub.execute_input": "2023-05-30T21:04:21.779320Z",
     "iopub.status.busy": "2023-05-30T21:04:21.778921Z",
     "iopub.status.idle": "2023-05-30T21:04:21.788045Z",
     "shell.execute_reply": "2023-05-30T21:04:21.787393Z",
     "shell.execute_reply.started": "2023-05-30T21:04:21.779288Z"
    },
    "tags": []
   },
   "outputs": [
    {
     "data": {
      "text/plain": [
       "False"
      ]
     },
     "execution_count": 3,
     "metadata": {},
     "output_type": "execute_result"
    }
   ],
   "source": [
    "bcaus_dr.support_ite()"
   ]
  },
  {
   "cell_type": "code",
   "execution_count": 4,
   "id": "d30ec2f1",
   "metadata": {
    "execution": {
     "iopub.execute_input": "2023-05-30T21:04:21.789328Z",
     "iopub.status.busy": "2023-05-30T21:04:21.788958Z",
     "iopub.status.idle": "2023-05-30T21:04:22.093190Z",
     "shell.execute_reply": "2023-05-30T21:04:22.092495Z",
     "shell.execute_reply.started": "2023-05-30T21:04:21.789307Z"
    },
    "tags": []
   },
   "outputs": [
    {
     "data": {
      "text/html": [
       "<div>\n",
       "<style scoped>\n",
       "    .dataframe tbody tr th:only-of-type {\n",
       "        vertical-align: middle;\n",
       "    }\n",
       "\n",
       "    .dataframe tbody tr th {\n",
       "        vertical-align: top;\n",
       "    }\n",
       "\n",
       "    .dataframe thead th {\n",
       "        text-align: right;\n",
       "    }\n",
       "</style>\n",
       "<table border=\"1\" class=\"dataframe\">\n",
       "  <thead>\n",
       "    <tr style=\"text-align: right;\">\n",
       "      <th></th>\n",
       "      <th>eps_ATE_tr</th>\n",
       "      <th>eps_ATE_te</th>\n",
       "    </tr>\n",
       "  </thead>\n",
       "  <tbody>\n",
       "    <tr>\n",
       "      <th>BCAUS_DR</th>\n",
       "      <td>0.012826</td>\n",
       "      <td>0.260861</td>\n",
       "    </tr>\n",
       "  </tbody>\n",
       "</table>\n",
       "</div>"
      ],
      "text/plain": [
       "          eps_ATE_tr  eps_ATE_te\n",
       "BCAUS_DR    0.012826    0.260861"
      ]
     },
     "execution_count": 4,
     "metadata": {},
     "output_type": "execute_result"
    }
   ],
   "source": [
    "import pandas as pd \n",
    "\n",
    "pd.DataFrame([[np.mean(eps_ATE_tr),np.mean(eps_ATE_te)]],\n",
    "             columns=['eps_ATE_tr','eps_ATE_te'], \n",
    "             index=['BCAUS_DR'])"
   ]
  }
 ],
 "metadata": {
  "kernelspec": {
   "display_name": "Python [conda env:causalforge]",
   "language": "python",
   "name": "conda-env-causalforge-py"
  },
  "language_info": {
   "codemirror_mode": {
    "name": "ipython",
    "version": 3
   },
   "file_extension": ".py",
   "mimetype": "text/x-python",
   "name": "python",
   "nbconvert_exporter": "python",
   "pygments_lexer": "ipython3",
   "version": "3.11.3"
  }
 },
 "nbformat": 4,
 "nbformat_minor": 5
}
