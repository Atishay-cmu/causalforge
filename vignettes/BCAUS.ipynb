{
 "cells": [
  {
   "cell_type": "markdown",
   "id": "1e7daeed",
   "metadata": {},
   "source": [
    "# BCAUS"
   ]
  },
  {
   "cell_type": "markdown",
   "id": "17cc19e6",
   "metadata": {},
   "source": [
    "__Reference__: [Belthangady et al, Minimizing bias in massive multi-arm observational studies with BCAUS: balancing covariates automatically using supervision, BMC Medical Research Methodology 2021](https://bmcmedresmethodol.biomedcentral.com/articles/10.1186/s12874-021-01383-x)"
   ]
  },
  {
   "cell_type": "markdown",
   "id": "8ee4fc7d",
   "metadata": {},
   "source": [
    "## BCAUS on IHDP"
   ]
  },
  {
   "cell_type": "code",
   "execution_count": 1,
   "id": "596d66eb",
   "metadata": {
    "scrolled": false
   },
   "outputs": [
    {
     "name": "stderr",
     "output_type": "stream",
     "text": [
      "2023-05-16 14:20:06.154153: I tensorflow/core/platform/cpu_feature_guard.cc:193] This TensorFlow binary is optimized with oneAPI Deep Neural Network Library (oneDNN) to use the following CPU instructions in performance-critical operations:  SSE4.1 SSE4.2 AVX AVX2 FMA\n",
      "To enable them in other operations, rebuild TensorFlow with the appropriate compiler flags.\n"
     ]
    }
   ],
   "source": [
    "from causalforge.model import Model , PROBLEM_TYPE\n",
    "from causalforge.data_loader import DataLoader \n",
    "\n",
    "# load IHDP dataset \n",
    "r = DataLoader.get_loader('IHDP').load()\n",
    "X_tr, T_tr, YF_tr, YCF_tr, mu_0_tr, mu_1_tr, X_te, T_te, YF_te, YCF_te, mu_0_te, mu_1_te = r\n",
    "\n",
    "# model \n",
    "params={}\n",
    "    \n",
    "    \n",
    "bcaus_dr = Model.create_model(\"bcaus_dr\",\n",
    "                               params,\n",
    "                               problem_type=PROBLEM_TYPE.CAUSAL_TREATMENT_EFFECT_ESTIMATION, \n",
    "                               multiple_treatments=False)\n",
    "\n"
   ]
  },
  {
   "cell_type": "code",
   "execution_count": 2,
   "id": "6029ecee",
   "metadata": {},
   "outputs": [],
   "source": [
    "from causalforge.metrics import eps_ATE_diff, PEHE_with_ite\n",
    "import numpy as np\n",
    "\n",
    "experiment_ids = [1,10,400]\n",
    "\n",
    "eps_ATE_tr, eps_ATE_te = [], []\n",
    "eps_PEHE_tr, eps_PEHE_te = [] , [] \n",
    "\n",
    "\n",
    "\n",
    "for idx in experiment_ids:    \n",
    "    t_tr, y_tr, x_tr, mu0tr, mu1tr = T_tr[:,idx] , YF_tr[:,idx], X_tr[:,:,idx], mu_0_tr[:,idx], mu_1_tr[:,idx] \n",
    "    t_te, y_te, x_te, mu0te, mu1te = T_te[:,idx] , YF_te[:,idx], X_te[:,:,idx], mu_0_te[:,idx], mu_1_te[:,idx]  \n",
    "    \n",
    "    \n",
    "    # Train your causal method on train-set ...\n",
    "    bcaus_dr.fit(x_tr,t_tr,y_tr)\n",
    "\n",
    "    # Validate your method test-set ... \n",
    "    ATE_truth_tr = (mu1tr - mu0tr).mean()\n",
    "    ATE_truth_te = (mu1te - mu0te).mean()\n",
    "    \n",
    "    ITE_truth_tr = (mu1tr - mu0tr)\n",
    "    ITE_truth_te = (mu1te - mu0te)\n",
    "    \n",
    "    eps_ATE_tr.append( eps_ATE_diff( bcaus_dr.predict_ate(x_tr,t_tr,y_tr), ATE_truth_tr) )\n",
    "    eps_ATE_te.append( eps_ATE_diff( bcaus_dr.predict_ate(x_te,t_te,y_te), ATE_truth_te) )\n",
    "        "
   ]
  },
  {
   "cell_type": "markdown",
   "id": "c66a1f16",
   "metadata": {},
   "source": [
    "## Results "
   ]
  },
  {
   "cell_type": "code",
   "execution_count": 3,
   "id": "d30ec2f1",
   "metadata": {},
   "outputs": [
    {
     "data": {
      "text/html": [
       "<div>\n",
       "<style scoped>\n",
       "    .dataframe tbody tr th:only-of-type {\n",
       "        vertical-align: middle;\n",
       "    }\n",
       "\n",
       "    .dataframe tbody tr th {\n",
       "        vertical-align: top;\n",
       "    }\n",
       "\n",
       "    .dataframe thead th {\n",
       "        text-align: right;\n",
       "    }\n",
       "</style>\n",
       "<table border=\"1\" class=\"dataframe\">\n",
       "  <thead>\n",
       "    <tr style=\"text-align: right;\">\n",
       "      <th></th>\n",
       "      <th>eps_ATE_tr</th>\n",
       "      <th>eps_ATE_te</th>\n",
       "    </tr>\n",
       "  </thead>\n",
       "  <tbody>\n",
       "    <tr>\n",
       "      <th>BCAUS_DR</th>\n",
       "      <td>0.012877</td>\n",
       "      <td>0.260656</td>\n",
       "    </tr>\n",
       "  </tbody>\n",
       "</table>\n",
       "</div>"
      ],
      "text/plain": [
       "          eps_ATE_tr  eps_ATE_te\n",
       "BCAUS_DR    0.012877    0.260656"
      ]
     },
     "execution_count": 3,
     "metadata": {},
     "output_type": "execute_result"
    }
   ],
   "source": [
    "import pandas as pd \n",
    "\n",
    "pd.DataFrame([[np.mean(eps_ATE_tr),np.mean(eps_ATE_te)]],\n",
    "             columns=['eps_ATE_tr','eps_ATE_te'], \n",
    "             index=['BCAUS_DR'])"
   ]
  }
 ],
 "metadata": {
  "kernelspec": {
   "display_name": "causalforge",
   "language": "python",
   "name": "causalforge"
  },
  "language_info": {
   "codemirror_mode": {
    "name": "ipython",
    "version": 3
   },
   "file_extension": ".py",
   "mimetype": "text/x-python",
   "name": "python",
   "nbconvert_exporter": "python",
   "pygments_lexer": "ipython3",
   "version": "3.10.11"
  }
 },
 "nbformat": 4,
 "nbformat_minor": 5
}
