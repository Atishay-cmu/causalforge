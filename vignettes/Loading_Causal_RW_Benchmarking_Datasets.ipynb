{
 "cells": [
  {
   "cell_type": "markdown",
   "id": "df2a4ef9",
   "metadata": {},
   "source": [
    "# Loading Real-World & Benchmarking Datasets with CausalForge"
   ]
  },
  {
   "cell_type": "markdown",
   "id": "5a0b5c05",
   "metadata": {},
   "source": [
    "A dataset used for causal studies is, in general, different from datasets used for associational studies. \n",
    "In causal inference we have a fundamental problem which is, indeed, referred as fundamental problem of causal inference."
   ]
  },
  {
   "cell_type": "markdown",
   "id": "6e8db50b",
   "metadata": {},
   "source": [
    "__Fundamental problem of causal inference (FPCI)__: _we do not observe both potential outcomes (control & treated), but \n",
    "    we only observe one._ "
   ]
  },
  {
   "cell_type": "markdown",
   "id": "e2f4bb38",
   "metadata": {},
   "source": [
    "Indeed, this formulation of FPCI holds only for binary exposures, when we have two cohorts: \n",
    "    treated & control (or untreated). In case of T exposures, we observe only one potential outcome and we do not \n",
    "    observe the remaining T-1. An unobserved potential outcome is generally referred as \n",
    "    __counterfactual__. "
   ]
  },
  {
   "cell_type": "markdown",
   "id": "7e316ed9",
   "metadata": {},
   "source": [
    "In causal inference we have \n",
    "\n",
    "* __real-world datasets__: these datasets are real datasets; they are typically observational and obey to the FPCI, hence, they don't come with \n",
    "    counterfactuals; as a conseguence, it should not be possible to do causal model validation on this kind of daatsets, \n",
    "    although they are people who adopt associational metrics (e.g. accuracy or auROC)\n",
    "    pretending they are proxies of causal metrics like PEHE (Precision in Estimation of Heterogeneous Effect) \n",
    "    or ATE (Average Treatment Effect) MAE (Mean Absolute Error), which, on the contrary, \n",
    "    requires counterfactuals for computation; \n",
    "    \n",
    "* __benchmarking datasets__: these datasets can be either simulations or combinations of real-world datasets and \n",
    "    RCTs, and __they come with counterfactuals__; they can be used to do causal model validation.  "
   ]
  },
  {
   "cell_type": "markdown",
   "id": "323a13fc",
   "metadata": {},
   "source": [
    "With CausalForge it is very easy to load a dataset. First, you want to load a proper __data loader__ given the name \n",
    "of the dataset, and then you want to load all the typical ingredients of a causal inference \n",
    "dataset, i.e., __covariates__, __teatment assigments__, __factuals__ and, if available, __counterfactuals__.\n",
    "\n",
    "Let's see this in action with a dataset very popular in the causal inference community: __IHDP__. "
   ]
  },
  {
   "cell_type": "markdown",
   "id": "6e779c47",
   "metadata": {},
   "source": [
    "## The IHDP Dataset"
   ]
  },
  {
   "cell_type": "markdown",
   "id": "816930e3",
   "metadata": {},
   "source": [
    "The Infant Health and Development Program (IHDP) is a randomized controlled study designed to evaluate the effect of home visit from specialist doctors on the cognitive test scores of premature infants. The datasets is first used for benchmarking treatment effect estimation algorithms in Hill [1], where selection bias is induced by removing non-random subsets of the treated individuals to create an observational dataset, and the outcomes are generated using the original covariates and treatments. It contains 747 subjects and 25 variables. In order to compare our results with the literature and make our results reproducible, we use the simulated outcome implemented as setting “A” in [2], and downloaded the data at https://www.fredjo.com/, which is composed of 1000 repetitions of the experiment. "
   ]
  },
  {
   "cell_type": "code",
   "execution_count": 14,
   "id": "dd2bcd78",
   "metadata": {},
   "outputs": [
    {
     "data": {
      "text/plain": [
       "((672, 25, 1000),\n",
       " (672, 1000),\n",
       " (672, 1000),\n",
       " (672, 1000),\n",
       " (672, 1000),\n",
       " (672, 1000))"
      ]
     },
     "execution_count": 14,
     "metadata": {},
     "output_type": "execute_result"
    }
   ],
   "source": [
    "from causalforge.data_loader import DataLoader \n",
    "\n",
    "r = DataLoader.get_loader('IHDP').load()\n",
    "X_tr, T_tr, YF_tr, YCF_tr, mu_0_tr, mu_1_tr, X_te, T_te, YF_te, YCF_te, mu_0_te, mu_1_te = r \n",
    "\n",
    "X_tr.shape, T_tr.shape, YF_tr.shape, YCF_tr.shape, mu_0_tr.shape , mu_1_tr.shape"
   ]
  },
  {
   "cell_type": "code",
   "execution_count": 15,
   "id": "0040e005",
   "metadata": {},
   "outputs": [
    {
     "data": {
      "text/plain": [
       "((75, 25, 1000), (75, 1000), (75, 1000), (75, 1000), (75, 1000), (75, 1000))"
      ]
     },
     "execution_count": 15,
     "metadata": {},
     "output_type": "execute_result"
    }
   ],
   "source": [
    "X_te.shape, T_te.shape, YF_te.shape , YCF_te.shape, mu_0_te.shape , mu_1_te.shape "
   ]
  },
  {
   "cell_type": "markdown",
   "id": "eef7a706",
   "metadata": {},
   "source": [
    "x, t, yf, ycf, mu0, mu1 are covariates, treatment, factual outcome, counterfactual outcome, and noiseless potential outcomes respectively."
   ]
  },
  {
   "cell_type": "markdown",
   "id": "c9455eb5",
   "metadata": {},
   "source": [
    "Hence, \n",
    "\n",
    "* __for the trainset__ X_tr, T_tr, YF_tr, YCF_tr, mu_0_tr, mu_1_tr  are covariates, treatment, factual outcome, counterfactual outcome, and noiseless potential outcomes respectively; \n",
    "* __for the testset__ X_te, T_te, YF_te, YCF_te, mu_0_te, mu_1_te  are covariates, treatment, factual outcome, counterfactual outcome, and noiseless potential outcomes respectively; "
   ]
  },
  {
   "cell_type": "markdown",
   "id": "ba8207c0",
   "metadata": {},
   "source": [
    "## References "
   ]
  },
  {
   "cell_type": "markdown",
   "id": "dfb50d6b",
   "metadata": {},
   "source": [
    "1. [Hill J.L., Bayesian nonparametric modeling for causal inference, J. Comput. Graph. Statist., 20 (1) (2011), pp. 217-240, 10.1198/jcgs.2010.08162](https://www.tandfonline.com/doi/abs/10.1198/jcgs.2010.08162)\n",
    "\n",
    "2. Shi C., Blei D.M., Veitch V., Adapting neural networks for the estimation of treatment effects Wallach H.M., Larochelle H., Beygelzimer A., d’Alché Buc F., Fox E.B., Garnett R. (Eds.), NeurIPS (2019), pp. 2503-2513"
   ]
  }
 ],
 "metadata": {
  "kernelspec": {
   "display_name": "causalforge",
   "language": "python",
   "name": "causalforge"
  },
  "language_info": {
   "codemirror_mode": {
    "name": "ipython",
    "version": 3
   },
   "file_extension": ".py",
   "mimetype": "text/x-python",
   "name": "python",
   "nbconvert_exporter": "python",
   "pygments_lexer": "ipython3",
   "version": "3.10.11"
  }
 },
 "nbformat": 4,
 "nbformat_minor": 5
}
